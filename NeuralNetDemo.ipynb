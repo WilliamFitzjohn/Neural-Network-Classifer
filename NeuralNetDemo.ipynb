{
 "cells": [
  {
   "cell_type": "markdown",
   "id": "90bd2ec5",
   "metadata": {
    "id": "90bd2ec5"
   },
   "source": [
    "# Classification using neural networks\n",
    "\n",
    "### Author\n",
    "- William Fitzjohn"
   ]
  },
  {
   "cell_type": "markdown",
   "id": "5a156265",
   "metadata": {
    "id": "5a156265"
   },
   "source": [
    "### Importing Libraries"
   ]
  },
  {
   "cell_type": "code",
   "execution_count": 1,
   "id": "ba85959e",
   "metadata": {
    "id": "ba85959e"
   },
   "outputs": [],
   "source": [
    "import torch\n",
    "import torch.nn as nn\n",
    "import torch.nn.functional as functional\n",
    "import torch.optim as optim\n",
    "from torchvision import datasets,transforms\n",
    "# Used if running in Jupyter\n",
    "import ssl\n",
    "ssl._create_default_https_context = ssl._create_unverified_context"
   ]
  },
  {
   "cell_type": "markdown",
   "id": "4498db3c",
   "metadata": {
    "id": "4498db3c"
   },
   "source": [
    "### Importing Data"
   ]
  },
  {
   "cell_type": "code",
   "execution_count": 2,
   "id": "b6379ea0",
   "metadata": {
    "colab": {
     "base_uri": "https://localhost:8080/"
    },
    "id": "b6379ea0",
    "outputId": "af62df5d-54db-4b0e-fca4-77b3e5bbd700"
   },
   "outputs": [
    {
     "name": "stdout",
     "output_type": "stream",
     "text": [
      "Downloading https://www.cs.toronto.edu/~kriz/cifar-10-python.tar.gz to ./data\\cifar-10-python.tar.gz\n"
     ]
    },
    {
     "data": {
      "application/vnd.jupyter.widget-view+json": {
       "model_id": "c0b242c26b0447ea984ff9d3d6880e84",
       "version_major": 2,
       "version_minor": 0
      },
      "text/plain": [
       "  0%|          | 0/170498071 [00:00<?, ?it/s]"
      ]
     },
     "metadata": {},
     "output_type": "display_data"
    },
    {
     "name": "stdout",
     "output_type": "stream",
     "text": [
      "Extracting ./data\\cifar-10-python.tar.gz to ./data\n",
      "Files already downloaded and verified\n"
     ]
    }
   ],
   "source": [
    "# Inspired by code from 'https://pytorch.org/tutorials/beginner/blitz/cifar10_tutorial.html'\n",
    "# Function used to normalize downloaded data\n",
    "transform_function = transforms.Compose([\\\n",
    "    transforms.ToTensor(),\\\n",
    "    transforms.Normalize((0.5, 0.5, 0.5), (0.5, 0.5, 0.5))]\\\n",
    ")\n",
    "\n",
    "# Setting batch size\n",
    "batch_size = 32\n",
    "\n",
    "# Creating training set\n",
    "train_set = datasets.CIFAR10(\\\n",
    "    root='./data',\\\n",
    "    train=True,\\\n",
    "    download=True,\\\n",
    "    transform=transform_function\\\n",
    ")\n",
    "train_loader = torch.utils.data.DataLoader(\n",
    "    train_set,\\\n",
    "    batch_size=batch_size,\\\n",
    "    shuffle=True,\\\n",
    "    num_workers=2\\\n",
    ")\n",
    "\n",
    "# Creating testing set\n",
    "test_set = datasets.CIFAR10(\n",
    "    root='./data',\\\n",
    "    train=False,\\\n",
    "    download=True,\\\n",
    "    transform=transform_function\\\n",
    ")\n",
    "test_loader = torch.utils.data.DataLoader(\n",
    "    test_set,\\\n",
    "    batch_size=batch_size,\\\n",
    "    shuffle=False,\\\n",
    "    num_workers=2\\\n",
    ")\n"
   ]
  },
  {
   "cell_type": "code",
   "execution_count": 3,
   "id": "0dNkPTxxm8fM",
   "metadata": {
    "id": "0dNkPTxxm8fM"
   },
   "outputs": [],
   "source": [
    "# Setting Classes\n",
    "classes = ('plane', 'car', 'bird', 'cat', 'deer', 'dog', 'frog', 'horse', 'ship', 'truck')\n",
    "\n",
    "# Setting Device\n",
    "device = torch.device(\"cuda\" if torch.cuda.is_available() else \"cpu\")"
   ]
  },
  {
   "cell_type": "markdown",
   "id": "VQduTGd3W2jt",
   "metadata": {
    "id": "VQduTGd3W2jt"
   },
   "source": [
    "# [Part I] Fully Connected Neural Network"
   ]
  },
  {
   "cell_type": "markdown",
   "id": "HpYP0nDXnVI8",
   "metadata": {
    "id": "HpYP0nDXnVI8"
   },
   "source": [
    "### Creating & Initializing Network"
   ]
  },
  {
   "cell_type": "code",
   "execution_count": 4,
   "id": "g-_2CTw2mO6c",
   "metadata": {
    "id": "g-_2CTw2mO6c"
   },
   "outputs": [],
   "source": [
    "# Hyperparameters For Training Environment\n",
    "input_size = 32*32*3 #32px x 32px x RGB\n",
    "num_classes = len(classes)\n",
    "learning_rate = 0.003\n",
    "epochs = 3"
   ]
  },
  {
   "cell_type": "code",
   "execution_count": 5,
   "id": "d9a9b489",
   "metadata": {
    "id": "d9a9b489"
   },
   "outputs": [],
   "source": [
    "# Inspired by code from 'https://aladdinpersson.medium.com/pytorch-neural-network-tutorial-7e871d6be7c4'\n",
    "\n",
    "class FullNN(nn.Module):\n",
    "    # Initializing 3 layer fully connected NN\n",
    "    def __init__(self, i_size, n_classes):\n",
    "        super().__init__()\n",
    "        self.fc1 = nn.Linear(i_size, round(i_size/5))\n",
    "        self.fc2 = nn.Linear(round(i_size/5), round(i_size/25))\n",
    "        self.fc3 = nn.Linear(round(i_size/25), n_classes)\n",
    "\n",
    "    # Sending data to NN\n",
    "    def forward(self, x):\n",
    "        x = torch.flatten(x, 1)\n",
    "        x = functional.relu(self.fc1(x))\n",
    "        x = functional.relu(self.fc2(x))\n",
    "        x = self.fc3(x)\n",
    "        return x"
   ]
  },
  {
   "cell_type": "code",
   "execution_count": 6,
   "id": "Uu07CRragTCA",
   "metadata": {
    "id": "Uu07CRragTCA"
   },
   "outputs": [],
   "source": [
    "# Initializing Model\n",
    "fnn_model = FullNN(input_size, num_classes).to(device)"
   ]
  },
  {
   "cell_type": "code",
   "execution_count": 7,
   "id": "9Ge9lEitmeUI",
   "metadata": {
    "id": "9Ge9lEitmeUI"
   },
   "outputs": [],
   "source": [
    "# Create Loss Function & Optimizer\n",
    "criterion = nn.CrossEntropyLoss()\n",
    "optimizer = optim.SGD(fnn_model.parameters(), lr=learning_rate, momentum=0.9)"
   ]
  },
  {
   "cell_type": "markdown",
   "id": "lzJzUOEInSsz",
   "metadata": {
    "id": "lzJzUOEInSsz"
   },
   "source": [
    "### Training Network"
   ]
  },
  {
   "cell_type": "code",
   "execution_count": 8,
   "id": "ZuBrvRBGnRa-",
   "metadata": {
    "colab": {
     "base_uri": "https://localhost:8080/"
    },
    "id": "ZuBrvRBGnRa-",
    "outputId": "a0a23f7d-6b31-4849-b7ac-e1d0fc8f4373"
   },
   "outputs": [],
   "source": [
    "for epoch in range(epochs):\n",
    "    for i, (data, targets) in enumerate(train_loader):\n",
    "        # Setup GPU integration\n",
    "        data = data.to(device=device)\n",
    "        targets = targets.to(device=device)\n",
    "\n",
    "        data = data.reshape(data.shape[0], -1) # Flatten Data\n",
    "\n",
    "        # Forward propagation\n",
    "        scores = fnn_model(data)\n",
    "        loss = criterion(scores, targets)\n",
    "\n",
    "        optimizer.zero_grad() # Reset old gradients\n",
    "        loss.backward() # Back progpagate\n",
    "        optimizer.step() # Gradient descent"
   ]
  },
  {
   "cell_type": "markdown",
   "id": "d46ce8ae",
   "metadata": {},
   "source": [
    "### Testing Network"
   ]
  },
  {
   "cell_type": "code",
   "execution_count": 9,
   "id": "Umvv0Y37pOSG",
   "metadata": {
    "id": "Umvv0Y37pOSG"
   },
   "outputs": [],
   "source": [
    "# Inspired by code from 'https://youtu.be/Jy4wM2X21u0'\n",
    "def check_accuracy_full(loader, model):\n",
    "    # Counters\n",
    "    num_correct = 0\n",
    "    num_samples = 0\n",
    "    model.eval() #Evaluate mode\n",
    "\n",
    "    # Disable gradients for faster computation\n",
    "    with torch.no_grad():\n",
    "        for x, y in loader:\n",
    "            # Formatting data\n",
    "            x = x.to(device=device)\n",
    "            y = y.to(device=device)\n",
    "            x = x.reshape(x.shape[0], -1)\n",
    "\n",
    "            # Scoring data\n",
    "            scores = model(x)\n",
    "            _, predictions = scores.max(1)\n",
    "            num_correct += (predictions == y).sum()\n",
    "            num_samples += predictions.size(0)\n",
    "\n",
    "        return [num_correct, num_samples, float(num_correct) / float(num_samples) * 100]\n",
    "\n",
    "    model.train() #Train mode"
   ]
  },
  {
   "cell_type": "code",
   "execution_count": 10,
   "id": "We4MZFr6qP0o",
   "metadata": {
    "id": "We4MZFr6qP0o"
   },
   "outputs": [],
   "source": [
    "[f_train_correct, f_train_samples, f_train_accuracy] = check_accuracy_full(train_loader, fnn_model)\n",
    "[f_test_correct, f_test_samples, f_test_accuracy] = check_accuracy_full(test_loader, fnn_model)"
   ]
  },
  {
   "cell_type": "code",
   "execution_count": 11,
   "id": "98e2eb27",
   "metadata": {},
   "outputs": [
    {
     "name": "stdout",
     "output_type": "stream",
     "text": [
      "[Fully Connected Neural Net]\n",
      "Train Set: 28111/50000 =  56.22 % Accurate\n",
      "Test Set: 5145/10000 =  51.45 % Accurate\n",
      "\n"
     ]
    }
   ],
   "source": [
    "# Fully Connected Neural Net\n",
    "print(\"[Fully Connected Neural Net]\\n\"+\\\n",
    "     \"Train Set: \"+str(int(f_train_correct))+\"/\"+str(f_train_samples)+\" =\",f\"{f_train_accuracy: .2f}\",\"% Accurate\\n\" +\\\n",
    "     \"Test Set: \"+str(int(f_test_correct))+\"/\"+str(f_test_samples)+\" =\",f\"{f_test_accuracy: .2f}\",\"% Accurate\\n\")"
   ]
  },
  {
   "cell_type": "markdown",
   "id": "24d658f4",
   "metadata": {},
   "source": [
    "# [Part II] Convolutional Neural Network"
   ]
  },
  {
   "cell_type": "markdown",
   "id": "ef55ad7c",
   "metadata": {},
   "source": [
    "### Creating & Initializing"
   ]
  },
  {
   "cell_type": "code",
   "execution_count": 12,
   "id": "44a236f3",
   "metadata": {},
   "outputs": [],
   "source": [
    "# Hyperparameters For Training Environment\n",
    "learning_rate = 0.006\n",
    "epochs = 5\n",
    "momentum = 0.9"
   ]
  },
  {
   "cell_type": "code",
   "execution_count": 13,
   "id": "c25a4006",
   "metadata": {},
   "outputs": [],
   "source": [
    "# Inspired by code from 'https://pytorch.org/tutorials/beginner/blitz/cifar10_tutorial.html'\n",
    "# and 'https://pyimagesearch.com/2021/07/19/pytorch-training-your-first-convolutional-neural-network-cnn/'\n",
    "\n",
    "class ConvNN(nn.Module):\n",
    "    def __init__(self, i_size, n_classes):\n",
    "        super().__init__()\n",
    "        # 2 Layers of conv, 2 layers of FC\n",
    "        self.conv1 = nn.Conv2d(3, 20, 5) # 3 channels in, 20 out, 5 kernal size \n",
    "        self.pool = nn.MaxPool2d(2, 2)\n",
    "        self.conv2 = nn.Conv2d(20, 50, 5) # 20 channels in, 50 out, 5 kernal size \n",
    "        self.fc1 = nn.Linear(1250, 500) # 1250 in, 500 out\n",
    "        self.fc2 = nn.Linear(500, n_classes) # 500 in, classes out\n",
    "\n",
    "    def forward(self, x):\n",
    "        x = self.pool(functional.relu(self.conv1(x))) # conv, relu, pool\n",
    "        x = self.pool(functional.relu(self.conv2(x))) # conv, relu, pool\n",
    "        x = torch.flatten(x, 1) # flatten\n",
    "        x = functional.relu(self.fc1(x)) # fc, relu\n",
    "        x = self.fc2(x) # fc\n",
    "        return x"
   ]
  },
  {
   "cell_type": "code",
   "execution_count": 14,
   "id": "e65c7934",
   "metadata": {},
   "outputs": [],
   "source": [
    "# Initializing Model\n",
    "cnn_model = ConvNN(input_size, num_classes).to(device)\n",
    "# Create Loss Function & Optimizer\n",
    "criterion = nn.CrossEntropyLoss()\n",
    "optimizer = optim.SGD(cnn_model.parameters(), lr=learning_rate, momentum=momentum)"
   ]
  },
  {
   "cell_type": "markdown",
   "id": "cb3952d3",
   "metadata": {},
   "source": [
    "### Training Network"
   ]
  },
  {
   "cell_type": "code",
   "execution_count": 15,
   "id": "fd407199",
   "metadata": {},
   "outputs": [],
   "source": [
    "for epoch in range(epochs):\n",
    "    for i, (data, targets) in enumerate(train_loader):\n",
    "        # Setup GPU integration\n",
    "        data = data.to(device=device)\n",
    "        targets = targets.to(device=device)\n",
    "\n",
    "        # Forward progpagate\n",
    "        scores = cnn_model(data)\n",
    "        loss = criterion(scores, targets)\n",
    "\n",
    "        optimizer.zero_grad() # Reset old gradients\n",
    "        loss.backward() # Back progpagate\n",
    "        optimizer.step() # Gradient descent"
   ]
  },
  {
   "cell_type": "markdown",
   "id": "e2788b93",
   "metadata": {},
   "source": [
    "### Testing Network"
   ]
  },
  {
   "cell_type": "code",
   "execution_count": 16,
   "id": "6942bec8",
   "metadata": {},
   "outputs": [],
   "source": [
    "# Inspired by code from 'https://youtu.be/Jy4wM2X21u0'\n",
    "def check_accuracy_conv(loader, model):\n",
    "    # Counters\n",
    "    num_correct = 0\n",
    "    num_samples = 0\n",
    "    model.eval() #Evaluate mode\n",
    "\n",
    "    # Disable gradients for faster computation\n",
    "    with torch.no_grad():\n",
    "        for x, y in loader:\n",
    "            # Formatting data\n",
    "            x = x.to(device=device)\n",
    "            y = y.to(device=device)\n",
    "\n",
    "            # Scoring data\n",
    "            scores = model(x)\n",
    "            _, predictions = scores.max(1)\n",
    "            num_correct += (predictions == y).sum()\n",
    "            num_samples += predictions.size(0)\n",
    "\n",
    "        return [num_correct, num_samples, float(num_correct) / float(num_samples) * 100]\n",
    "    model.train() #Train mode"
   ]
  },
  {
   "cell_type": "code",
   "execution_count": 17,
   "id": "e03ec116",
   "metadata": {},
   "outputs": [],
   "source": [
    "[c_train_correct, c_train_samples, c_train_accuracy] = check_accuracy_conv(train_loader, cnn_model)\n",
    "[c_test_correct, c_test_samples, c_test_accuracy] = check_accuracy_conv(test_loader, cnn_model)"
   ]
  },
  {
   "cell_type": "markdown",
   "id": "f50762e0",
   "metadata": {},
   "source": [
    "# Results"
   ]
  },
  {
   "cell_type": "code",
   "execution_count": 18,
   "id": "f486652f",
   "metadata": {},
   "outputs": [
    {
     "name": "stdout",
     "output_type": "stream",
     "text": [
      "[Fully Connected Neural Net]\n",
      "Train Set: 28111/50000 =  56.22 % Accurate\n",
      "Test Set: 5145/10000 =  51.45 % Accurate\n",
      "\n",
      "[Convolutional Neural Net]\n",
      "Train Set: 40252/50000 =  80.50 % Accurate\n",
      "Test Set: 6845/10000 =  68.45 % Accurate\n"
     ]
    }
   ],
   "source": [
    "# Fully Connected Neural Net\n",
    "print(\"[Fully Connected Neural Net]\\n\"+\\\n",
    "     \"Train Set: \"+str(int(f_train_correct))+\"/\"+str(f_train_samples)+\" =\",f\"{f_train_accuracy: .2f}\",\"% Accurate\\n\" +\\\n",
    "     \"Test Set: \"+str(int(f_test_correct))+\"/\"+str(f_test_samples)+\" =\",f\"{f_test_accuracy: .2f}\",\"% Accurate\\n\")\n",
    "# Convolutional Neural Net\n",
    "print(\"[Convolutional Neural Net]\\n\"+\\\n",
    "     \"Train Set: \"+str(int(c_train_correct))+\"/\"+str(c_train_samples)+\" =\",f\"{c_train_accuracy: .2f}\",\"% Accurate\\n\" +\\\n",
    "     \"Test Set: \"+str(int(c_test_correct))+\"/\"+str(c_test_samples)+\" =\",f\"{c_test_accuracy: .2f}\",\"% Accurate\")"
   ]
  }
 ],
 "metadata": {
  "colab": {
   "collapsed_sections": [],
   "name": "fitzjohn_william.ipynb",
   "provenance": []
  },
  "kernelspec": {
   "display_name": "Python 3",
   "language": "python",
   "name": "python3"
  },
  "language_info": {
   "codemirror_mode": {
    "name": "ipython",
    "version": 3
   },
   "file_extension": ".py",
   "mimetype": "text/x-python",
   "name": "python",
   "nbconvert_exporter": "python",
   "pygments_lexer": "ipython3",
   "version": "3.8.8"
  }
 },
 "nbformat": 4,
 "nbformat_minor": 5
}
